{
 "cells": [
  {
   "cell_type": "code",
   "execution_count": null,
   "metadata": {
    "vscode": {
     "languageId": "plaintext"
    }
   },
   "outputs": [],
   "source": [
    "import sys\n",
    "import os\n",
    "\n",
    "# Add the parent directory to sys.path\n",
    "parent_dir = os.path.abspath(os.path.join(os.getcwd(), '..'))  # Go up one level\n",
    "sys.path.append(parent_dir)\n",
    "\n",
    "# Now you can import the modules\n",
    "import torch\n",
    "from models.sample_model import SampleModel\n",
    "from src.interpreter import ModelInterpreter\n"
   ]
  },
  {
   "cell_type": "code",
   "execution_count": null,
   "metadata": {
    "vscode": {
     "languageId": "plaintext"
    }
   },
   "outputs": [],
   "source": [
    "\n",
    "",
    "# Create sample model and data\n",
    "model = SampleModel()\n",
    "sample_input = torch.randn(1, 3, 224, 224)  # Example input tensor\n"
   ]
  },
  {
   "cell_type": "code",
   "execution_count": null,
   "metadata": {},
   "outputs": [],
   "source": [
    "\n",
    "",
    "# Initialize interpreter\n",
    "interpreter = ModelInterpreter(model)\n",
    "\n",
    "# Run analysis\n",
    "results = interpreter.analyze_model(sample_input, target_class=0)\n",
    "\n"
   ]
  },
  {
   "cell_type": "code",
   "execution_count": null,
   "metadata": {},
   "outputs": [],
   "source": [
    "",
    "# Examine specific layer activations\n",
    "activations = interpreter.get_layer_activations(sample_input, layer_idx=-1)\n",
    "print(f\"Activation shape: {activations.shape}\")"
   ]
  },
  {
   "cell_type": "code",
   "execution_count": null,
   "metadata": {},
   "outputs": [],
   "source": []
  }
 ],
 "metadata": {
  "kernelspec": {
   "display_name": "Python 3 (ipykernel)",
   "language": "python",
   "name": "python3"
  },
  "language_info": {
   "codemirror_mode": {
    "name": "ipython",
    "version": 3
   },
   "file_extension": ".py",
   "mimetype": "text/x-python",
   "name": "python",
   "nbconvert_exporter": "python",
   "pygments_lexer": "ipython3",
   "version": "3.11.9"
  }
 },
 "nbformat": 4,
 "nbformat_minor": 4
}
